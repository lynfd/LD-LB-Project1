{
 "cells": [
  {
   "cell_type": "code",
   "execution_count": 1,
   "id": "30daf9aa",
   "metadata": {},
   "outputs": [
    {
     "name": "stdout",
     "output_type": "stream",
     "text": [
      "Enter a choice of rock, paper, or scissors. paper\n",
      "\n",
      "You chose paper, computer chose rock.\n",
      "\n",
      "Paper covers rock! You win!\n",
      "Play again? yes/no: yes\n",
      "Enter a choice of rock, paper, or scissors. scissors\n",
      "\n",
      "You chose scissors, computer chose paper.\n",
      "\n",
      "Scissors cuts paper! You win!\n",
      "Play again? yes/no: yes\n",
      "Enter a choice of rock, paper, or scissors. rock\n",
      "\n",
      "You chose rock, computer chose scissors.\n",
      "\n",
      "Rock smashes scissors! You win!\n",
      "Play again? yes/no: yes\n",
      "Enter a choice of rock, paper, or scissors. rock\n",
      "\n",
      "You chose rock, computer chose scissors.\n",
      "\n",
      "Rock smashes scissors! You win!\n",
      "Play again? yes/no: yes\n",
      "Enter a choice of rock, paper, or scissors. rock\n",
      "\n",
      "You chose rock, computer chose scissors.\n",
      "\n",
      "Rock smashes scissors! You win!\n",
      "Play again? yes/no: yes\n",
      "Enter a choice of rock, paper, or scissors. rock\n",
      "\n",
      "You chose rock, computer chose scissors.\n",
      "\n",
      "Rock smashes scissors! You win!\n",
      "Play again? yes/no: yes\n",
      "Enter a choice of rock, paper, or scissors. rock\n",
      "\n",
      "You chose rock, computer chose paper.\n",
      "\n",
      "Paper covers rock! You lose.\n",
      "Play again? yes/no: no\n"
     ]
    }
   ],
   "source": [
    "import random\n",
    "while True:\n",
    "    user_input=input(\"Enter a choice of rock, paper, or scissors. \")\n",
    "    actions = [\"rock\", \"paper\", \"scissors\"]\n",
    "    computer_input = random.choice(actions)\n",
    "    print(f\"\\nYou chose {user_input}, computer chose {computer_input}.\\n\")\n",
    "\n",
    "    if user_input == computer_input:\n",
    "        print(f\"Both players selected {user_input}. It's a tie!\")\n",
    "    elif user_input == \"rock\":\n",
    "        if computer_input == \"scissors\":\n",
    "            print(\"Rock smashes scissors! You win!\")\n",
    "        else:\n",
    "            print(\"Paper covers rock! You lose.\")\n",
    "    elif user_input == \"paper\":\n",
    "        if computer_input == \"rock\":\n",
    "            print(\"Paper covers rock! You win!\")\n",
    "        else:\n",
    "            print(\"Scissors cuts paper! You lose.\")\n",
    "    elif user_input == \"scissors\":\n",
    "        if computer_input == \"paper\":\n",
    "            print(\"Scissors cuts paper! You win!\")\n",
    "        else:\n",
    "            print(\"Rock smashes scissors! You lose.\")\n",
    "\n",
    "    play_again = input(\"Play again? yes/no: \")\n",
    "    if play_again.lower() != \"yes\":\n",
    "        break"
   ]
  },
  {
   "cell_type": "code",
   "execution_count": null,
   "id": "d6ed1920",
   "metadata": {},
   "outputs": [],
   "source": []
  }
 ],
 "metadata": {
  "kernelspec": {
   "display_name": "Python 3 (ipykernel)",
   "language": "python",
   "name": "python3"
  },
  "language_info": {
   "codemirror_mode": {
    "name": "ipython",
    "version": 3
   },
   "file_extension": ".py",
   "mimetype": "text/x-python",
   "name": "python",
   "nbconvert_exporter": "python",
   "pygments_lexer": "ipython3",
   "version": "3.9.12"
  }
 },
 "nbformat": 4,
 "nbformat_minor": 5
}
